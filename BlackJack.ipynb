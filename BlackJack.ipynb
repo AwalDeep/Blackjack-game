{
 "cells": [
  {
   "cell_type": "code",
   "execution_count": 42,
   "metadata": {},
   "outputs": [],
   "source": [
    "import random\n",
    "suits = ('Hearts', 'Diamonds', 'Spades', 'Clubs')\n",
    "ranks = ('Two', 'Three', 'Four', 'Five', 'Six', 'Seven', 'Eight', 'Nine', 'Ten', 'Jack', 'Queen', 'King', 'Ace')\n",
    "values = {'Two':2, 'Three':3, 'Four':4, 'Five':5, 'Six':6, 'Seven':7, 'Eight':8, 'Nine':9, 'Ten':10, 'Jack':10,\n",
    "         'Queen':10, 'King':10, 'Ace':11}"
   ]
  },
  {
   "cell_type": "code",
   "execution_count": 43,
   "metadata": {},
   "outputs": [],
   "source": [
    "class Card:\n",
    "    \n",
    "    def __init__(self,rank,suit):\n",
    "        self.suit=suit\n",
    "        self.rank=rank\n",
    "    \n",
    "    def __str__(self):\n",
    "        return f'{self.rank} of {self.suit}'"
   ]
  },
  {
   "cell_type": "code",
   "execution_count": null,
   "metadata": {},
   "outputs": [],
   "source": []
  },
  {
   "cell_type": "code",
   "execution_count": 44,
   "metadata": {},
   "outputs": [],
   "source": [
    "class Deck:\n",
    "    def __init__(self):\n",
    "        self.deck=[]\n",
    "        for i in suits:\n",
    "            for j in ranks:\n",
    "                self.deck.append(f\"{j} of {i}\")\n",
    "    def __str__(self):\n",
    "        return str(self.deck)\n",
    "    def shuffle(self):\n",
    "        random.shuffle(self.deck)\n",
    "    def deal(self):\n",
    "        deck_element=self.deck[0]\n",
    "        self.deck.remove(deck_element)\n",
    "        return deck_element "
   ]
  },
  {
   "cell_type": "code",
   "execution_count": 45,
   "metadata": {},
   "outputs": [],
   "source": [
    "#d=Deck()\n",
    "#d.shuffle()\n",
    "#print(d)\n",
    "#d.deal()\n"
   ]
  },
  {
   "cell_type": "code",
   "execution_count": 46,
   "metadata": {},
   "outputs": [],
   "source": [
    "class Hand:\n",
    "    def __init__(self):\n",
    "        self.cards = []  # start with an empty list as we did in the Deck class\n",
    "        self.value = 0   # start with zero value\n",
    "        self.aces = 0    # add an attribute to keep track of aces\n",
    "    \n",
    "    def add_card(self,card):\n",
    "        self.cards.append(card)\n",
    "        self.value+=values[card.split()[0]]\n",
    "    \n",
    "    def adjust_for_ace(self):\n",
    "        if self.value >9:\n",
    "            values['Ace']=1"
   ]
  },
  {
   "cell_type": "code",
   "execution_count": 47,
   "metadata": {},
   "outputs": [],
   "source": [
    "class Chips:\n",
    "    \n",
    "    def __init__(self):\n",
    "        self.total = 100  # This can be set to a default value or supplied by a user input\n",
    "        self.bet = 0\n",
    "        \n",
    "    def win_bet(self):\n",
    "        self.total+=self.bet\n",
    "    \n",
    "    def lose_bet(self):\n",
    "        self.total-=self.bet"
   ]
  },
  {
   "cell_type": "code",
   "execution_count": 48,
   "metadata": {},
   "outputs": [],
   "source": [
    "def take_bet():\n",
    "    try:\n",
    "        bet=int(input(\"Enter the amount you want to place as bet\"))\n",
    "    except:\n",
    "        print(\"Please enter value in numbers\")\n",
    "    else:\n",
    "        if bet > chips.total:\n",
    "            print(\"Enter valid amount!\")\n",
    "        else:\n",
    "            return bet"
   ]
  },
  {
   "cell_type": "code",
   "execution_count": 49,
   "metadata": {},
   "outputs": [],
   "source": [
    "def hit(deck,hand):\n",
    "    hand.add_card(deck.deal())\n",
    "    #print(hand.value)"
   ]
  },
  {
   "cell_type": "code",
   "execution_count": 50,
   "metadata": {},
   "outputs": [],
   "source": [
    "def hit_or_stand(deck,hand):\n",
    "    global playing  # to control an upcoming while loop\n",
    "    \n",
    "    hit_stand=input(\"Do you want to stand or hit\")\n",
    "    if hit_stand.lower()=='hit':\n",
    "        hit(deck,hand)\n",
    "    else:\n",
    "        playing=False\n",
    "        "
   ]
  },
  {
   "cell_type": "code",
   "execution_count": 51,
   "metadata": {},
   "outputs": [],
   "source": [
    "def show_some(player,dealer):\n",
    "    \n",
    "    print(player.cards)\n",
    "    print(dealer.cards[0])\n",
    "    \n",
    "def show_all(player,dealer):\n",
    "    \n",
    "    print(player.cards)\n",
    "    print(dealer.cards)"
   ]
  },
  {
   "cell_type": "code",
   "execution_count": 52,
   "metadata": {},
   "outputs": [],
   "source": [
    "def player_busts(player):\n",
    "    if player.value>21:\n",
    "        chips.lose_bet()\n",
    "        print(\"PLAYER BUSTED\")\n",
    "def player_wins(player,dealer,chips):\n",
    "    if player.value>dealer.value and player.value<21:\n",
    "        chips.win_bet()\n",
    "        print(\"PLAYER WINS\")\n",
    "def dealer_busts(dealer,chips):\n",
    "    if dealer.value>21:\n",
    "        chips.win_bet()\n",
    "        print(\"DEALER BUSTED & PLAYER WINS\")\n",
    "    \n",
    "def dealer_wins(player,dealer,chips):\n",
    "    if dealer.value>player.value and dealer.value<21:\n",
    "        chips.lose_bet()\n",
    "        print(\"DEALER WINS\")\n",
    "def push():\n",
    "    pass"
   ]
  },
  {
   "cell_type": "code",
   "execution_count": 55,
   "metadata": {},
   "outputs": [
    {
     "name": "stdout",
     "output_type": "stream",
     "text": [
      "Hi WELCOME TO THE BLACKJACK GAME\n",
      "Enter the amount you want to place as bet100\n",
      "['King of Clubs', 'King of Diamonds']\n",
      "Six of Diamonds\n",
      "Do you want to stand or hitstand\n",
      "['King of Clubs', 'King of Diamonds']\n",
      "Six of Diamonds\n",
      "['King of Clubs', 'King of Diamonds']\n",
      "['Six of Diamonds', 'King of Hearts', 'Seven of Diamonds']\n",
      "DEALER BUSTED & PLAYER WINS\n",
      "Player's chips now:200\n"
     ]
    }
   ],
   "source": [
    "while True:\n",
    "    print(\"Hi WELCOME TO THE BLACKJACK GAME\")\n",
    "\n",
    "    \n",
    "    # Create & shuffle the deck, deal two cards to each player\n",
    "    deck=Deck()\n",
    "    deck.shuffle()\n",
    "    player=Hand()\n",
    "    dealer=Hand()\n",
    "    for i in range(2):\n",
    "        hit(deck,player)\n",
    "        hit(deck,dealer)\n",
    "        \n",
    "    # Set up the Player's chips\n",
    "    chips=Chips()\n",
    "    chips.total=200\n",
    "    \n",
    "    # Prompt the Player for their bet\n",
    "    bet=take_bet()\n",
    "    \n",
    "    # Show cards (but keep one dealer card hidden)\n",
    "    show_some(player,dealer)\n",
    "    \n",
    "    playing=True\n",
    "    while playing:  # recall this variable from our hit_or_stand function\n",
    "        \n",
    "        # Prompt for Player to Hit or Stand\n",
    "        hit_or_stand(deck,player)\n",
    "        \n",
    "        # Show cards (but keep one dealer card hidden)\n",
    "        show_some(player,dealer) \n",
    "        \n",
    "        # If player's hand exceeds 21, run player_busts() and break out of loop\n",
    "        if player.value >21:\n",
    "            player_busts(player)\n",
    "            break\n",
    "\n",
    "    # If Player hasn't busted, play Dealer's hand until Dealer reaches 17\n",
    "    #if player.value <=21:\n",
    "    if player.value<=21:\n",
    "        while dealer.value <=17:\n",
    "            hit(deck,dealer)\n",
    "\n",
    "\n",
    "            # Show all cards\n",
    "            show_all(player,dealer)\n",
    "\n",
    "            # Run different winning scenarios\n",
    "            player_wins(player,dealer,chips)\n",
    "            dealer_busts(dealer,chips)\n",
    "            dealer_wins(player,dealer,chips)\n",
    "    # Inform Player of their chips total \n",
    "    print(f\"Player's chips now:{chips.total}\") \n",
    "    \n",
    "    # Ask to play again\n",
    "\n",
    "    break"
   ]
  },
  {
   "cell_type": "code",
   "execution_count": null,
   "metadata": {},
   "outputs": [],
   "source": []
  },
  {
   "cell_type": "code",
   "execution_count": null,
   "metadata": {},
   "outputs": [],
   "source": []
  }
 ],
 "metadata": {
  "kernelspec": {
   "display_name": "Python 3",
   "language": "python",
   "name": "python3"
  },
  "language_info": {
   "codemirror_mode": {
    "name": "ipython",
    "version": 3
   },
   "file_extension": ".py",
   "mimetype": "text/x-python",
   "name": "python",
   "nbconvert_exporter": "python",
   "pygments_lexer": "ipython3",
   "version": "3.6.5"
  }
 },
 "nbformat": 4,
 "nbformat_minor": 2
}
